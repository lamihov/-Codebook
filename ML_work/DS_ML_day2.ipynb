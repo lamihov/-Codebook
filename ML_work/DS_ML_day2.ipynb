{
 "cells": [
  {
   "cell_type": "code",
   "execution_count": 7,
   "metadata": {},
   "outputs": [],
   "source": [
    "import pandas as pd # импорт pandas"
   ]
  },
  {
   "cell_type": "code",
   "execution_count": 8,
   "metadata": {},
   "outputs": [],
   "source": [
    "df = pd.read_excel(\"USD.xlsx\") # переменная для считывания данных"
   ]
  },
  {
   "cell_type": "code",
   "execution_count": 9,
   "metadata": {},
   "outputs": [],
   "source": [
    "money = df[\"curs\"] # переменная для стобца курс"
   ]
  },
  {
   "cell_type": "code",
   "execution_count": 10,
   "metadata": {},
   "outputs": [
    {
     "data": {
      "text/plain": [
       "0      59.8961\n",
       "1      59.9533\n",
       "2      60.1614\n",
       "3      59.4978\n",
       "4      59.3700\n",
       "        ...   \n",
       "715    64.0239\n",
       "716    63.9722\n",
       "717    64.1005\n",
       "718    64.0817\n",
       "719    64.4097\n",
       "Name: curs, Length: 720, dtype: float64"
      ]
     },
     "execution_count": 10,
     "metadata": {},
     "output_type": "execute_result"
    }
   ],
   "source": [
    "money"
   ]
  },
  {
   "cell_type": "code",
   "execution_count": 12,
   "metadata": {},
   "outputs": [
    {
     "data": {
      "text/plain": [
       "<matplotlib.axes._subplots.AxesSubplot at 0x1a21a719f88>"
      ]
     },
     "execution_count": 12,
     "metadata": {},
     "output_type": "execute_result"
    },
    {
     "data": {
      "image/png": "[encoded data removed]",
      "text/plain": [
       "<Figure size 432x288 with 1 Axes>"
      ]
     },
     "metadata": {
      "needs_background": "light"
     },
     "output_type": "display_data"
    }
   ],
   "source": [
    "money.plot() # график динамики курса за 720 дней"
   ]
  },
  {
   "cell_type": "code",
   "execution_count": 13,
   "metadata": {},
   "outputs": [],
   "source": [
    "past = 7 * 4 # возьмем данные за последние четыре недели\n",
    "future = 7 # попытаемся предсказать значения на неделю в будущее"
   ]
  },
  {
   "cell_type": "code",
   "execution_count": 10,
   "metadata": {},
   "outputs": [
    {
     "data": {
      "text/plain": [
       "0     59.8961\n",
       "1     59.9533\n",
       "2     60.1614\n",
       "3     59.4978\n",
       "4     59.3700\n",
       "5     59.6067\n",
       "6     59.4015\n",
       "7     59.1830\n",
       "8     59.3521\n",
       "9     59.6697\n",
       "10    59.5034\n",
       "11    59.2168\n",
       "12    59.1489\n",
       "13    59.6356\n",
       "14    60.3196\n",
       "15    60.1618\n",
       "16    60.0851\n",
       "17    60.3099\n",
       "18    59.9858\n",
       "19    59.3137\n",
       "20    58.7121\n",
       "21    59.1933\n",
       "22    59.5129\n",
       "23    59.0235\n",
       "24    58.8457\n",
       "25    58.0619\n",
       "26    57.7388\n",
       "27    56.7719\n",
       "28    57.1507\n",
       "29    57.6342\n",
       "30    58.0967\n",
       "31    57.8590\n",
       "32    57.4762\n",
       "33    57.9371\n",
       "34    57.9627\n",
       "35    58.3776\n",
       "36    58.4067\n",
       "37    58.9099\n",
       "38    58.3370\n",
       "39    58.2630\n",
       "40    58.8318\n",
       "41    59.2174\n",
       "42    59.1327\n",
       "43    58.9540\n",
       "44    59.1128\n",
       "45    58.2437\n",
       "46    57.9344\n",
       "47    57.2847\n",
       "48    57.2323\n",
       "49    57.6360\n",
       "Name: curs, dtype: float64"
      ]
     },
     "execution_count": 10,
     "metadata": {},
     "output_type": "execute_result"
    }
   ],
   "source": [
    "money.head(50) # данные за первые 50 дней"
   ]
  },
  {
   "cell_type": "code",
   "execution_count": 14,
   "metadata": {},
   "outputs": [],
   "source": [
    "start = past\n",
    "end = len(money) - future"
   ]
  },
  {
   "cell_type": "code",
   "execution_count": 15,
   "metadata": {},
   "outputs": [
    {
     "data": {
      "text/plain": [
       "56.6747"
      ]
     },
     "execution_count": 15,
     "metadata": {},
     "output_type": "execute_result"
    }
   ],
   "source": [
    "money[100]"
   ]
  },
  {
   "cell_type": "code",
   "execution_count": 16,
   "metadata": {},
   "outputs": [
    {
     "data": {
      "text/plain": [
       "72    56.0794\n",
       "73    55.8453\n",
       "74    56.3131\n",
       "75    56.9707\n",
       "76    56.9838\n",
       "77    56.9518\n",
       "78    57.0927\n",
       "79    57.5714\n",
       "80    58.5382\n",
       "81    58.0824\n",
       "82    57.1161\n",
       "83    57.1640\n",
       "84    56.5258\n",
       "85    56.2603\n",
       "86    56.7383\n",
       "87    57.4683\n",
       "88    57.1602\n",
       "89    56.4988\n",
       "90    56.5552\n",
       "91    56.2743\n",
       "92    56.0701\n",
       "93    56.7560\n",
       "94    56.7106\n",
       "95    56.5168\n",
       "96    56.6876\n",
       "97    56.5373\n",
       "98    56.6876\n",
       "99    56.6152\n",
       "Name: curs, dtype: float64"
      ]
     },
     "execution_count": 16,
     "metadata": {},
     "output_type": "execute_result"
    }
   ],
   "source": [
    "money[72:100]"
   ]
  },
  {
   "cell_type": "code",
   "execution_count": 17,
   "metadata": {},
   "outputs": [],
   "source": [
    "raw_df = [] # массив для хранения данных за 28 дней до и 7 дней после\n",
    "for i in range(start, end):\n",
    "    past_and_future_values = money[(i - past): (i + future)]\n",
    "    raw_df.append(list(past_and_future_values))"
   ]
  },
  {
   "cell_type": "code",
   "execution_count": 18,
   "metadata": {},
   "outputs": [
    {
     "data": {
      "text/plain": [
       "685"
      ]
     },
     "execution_count": 18,
     "metadata": {},
     "output_type": "execute_result"
    }
   ],
   "source": [
    "len(raw_df)"
   ]
  },
  {
   "cell_type": "code",
   "execution_count": 19,
   "metadata": {},
   "outputs": [
    {
     "data": {
      "text/plain": [
       "35"
      ]
     },
     "execution_count": 19,
     "metadata": {},
     "output_type": "execute_result"
    }
   ],
   "source": [
    "len(raw_df[0])"
   ]
  },
  {
   "cell_type": "code",
   "execution_count": 20,
   "metadata": {},
   "outputs": [],
   "source": [
    "past_columns = []\n",
    "for i in range(past):\n",
    "        past_columns.append(\"past_{}\".format(i))"
   ]
  },
  {
   "cell_type": "code",
   "execution_count": 21,
   "metadata": {},
   "outputs": [
    {
     "data": {
      "text/plain": [
       "['past_0',\n",
       " 'past_1',\n",
       " 'past_2',\n",
       " 'past_3',\n",
       " 'past_4',\n",
       " 'past_5',\n",
       " 'past_6',\n",
       " 'past_7',\n",
       " 'past_8',\n",
       " 'past_9',\n",
       " 'past_10',\n",
       " 'past_11',\n",
       " 'past_12',\n",
       " 'past_13',\n",
       " 'past_14',\n",
       " 'past_15',\n",
       " 'past_16',\n",
       " 'past_17',\n",
       " 'past_18',\n",
       " 'past_19',\n",
       " 'past_20',\n",
       " 'past_21',\n",
       " 'past_22',\n",
       " 'past_23',\n",
       " 'past_24',\n",
       " 'past_25',\n",
       " 'past_26',\n",
       " 'past_27']"
      ]
     },
     "execution_count": 21,
     "metadata": {},
     "output_type": "execute_result"
    }
   ],
   "source": [
    "past_columns"
   ]
  },
  {
   "cell_type": "code",
   "execution_count": 22,
   "metadata": {},
   "outputs": [],
   "source": [
    "future_columns = []\n",
    "for i in range(future):\n",
    "        future_columns.append(\"future_{}\".format(i))"
   ]
  },
  {
   "cell_type": "code",
   "execution_count": 23,
   "metadata": {},
   "outputs": [
    {
     "data": {
      "text/plain": [
       "['future_0',\n",
       " 'future_1',\n",
       " 'future_2',\n",
       " 'future_3',\n",
       " 'future_4',\n",
       " 'future_5',\n",
       " 'future_6']"
      ]
     },
     "execution_count": 23,
     "metadata": {},
     "output_type": "execute_result"
    }
   ],
   "source": [
    "future_columns"
   ]
  },
  {
   "cell_type": "code",
   "execution_count": 24,
   "metadata": {},
   "outputs": [],
   "source": [
    "df = pd.DataFrame(raw_df, columns = (past_columns+future_columns))"
   ]
  },
  {
   "cell_type": "code",
   "execution_count": 25,
   "metadata": {},
   "outputs": [
    {
     "data": {
      "text/html": [
       "<div>\n",
       "<style scoped>\n",
       "    .dataframe tbody tr th:only-of-type {\n",
       "        vertical-align: middle;\n",
       "    }\n",
       "\n",
       "    .dataframe tbody tr th {\n",
       "        vertical-align: top;\n",
       "    }\n",
       "\n",
       "    .dataframe thead th {\n",
       "        text-align: right;\n",
       "    }\n",
       "</style>\n",
       "<table border=\"1\" class=\"dataframe\">\n",
       "  <thead>\n",
       "    <tr style=\"text-align: right;\">\n",
       "      <th></th>\n",
       "      <th>past_0</th>\n",
       "      <th>past_1</th>\n",
       "      <th>past_2</th>\n",
       "      <th>past_3</th>\n",
       "      <th>past_4</th>\n",
       "      <th>past_5</th>\n",
       "      <th>past_6</th>\n",
       "      <th>past_7</th>\n",
       "      <th>past_8</th>\n",
       "      <th>past_9</th>\n",
       "      <th>...</th>\n",
       "      <th>past_25</th>\n",
       "      <th>past_26</th>\n",
       "      <th>past_27</th>\n",
       "      <th>future_0</th>\n",
       "      <th>future_1</th>\n",
       "      <th>future_2</th>\n",
       "      <th>future_3</th>\n",
       "      <th>future_4</th>\n",
       "      <th>future_5</th>\n",
       "      <th>future_6</th>\n",
       "    </tr>\n",
       "  </thead>\n",
       "  <tbody>\n",
       "    <tr>\n",
       "      <td>0</td>\n",
       "      <td>59.8961</td>\n",
       "      <td>59.9533</td>\n",
       "      <td>60.1614</td>\n",
       "      <td>59.4978</td>\n",
       "      <td>59.3700</td>\n",
       "      <td>59.6067</td>\n",
       "      <td>59.4015</td>\n",
       "      <td>59.1830</td>\n",
       "      <td>59.3521</td>\n",
       "      <td>59.6697</td>\n",
       "      <td>...</td>\n",
       "      <td>58.0619</td>\n",
       "      <td>57.7388</td>\n",
       "      <td>56.7719</td>\n",
       "      <td>57.1507</td>\n",
       "      <td>57.6342</td>\n",
       "      <td>58.0967</td>\n",
       "      <td>57.8590</td>\n",
       "      <td>57.4762</td>\n",
       "      <td>57.9371</td>\n",
       "      <td>57.9627</td>\n",
       "    </tr>\n",
       "    <tr>\n",
       "      <td>1</td>\n",
       "      <td>59.9533</td>\n",
       "      <td>60.1614</td>\n",
       "      <td>59.4978</td>\n",
       "      <td>59.3700</td>\n",
       "      <td>59.6067</td>\n",
       "      <td>59.4015</td>\n",
       "      <td>59.1830</td>\n",
       "      <td>59.3521</td>\n",
       "      <td>59.6697</td>\n",
       "      <td>59.5034</td>\n",
       "      <td>...</td>\n",
       "      <td>57.7388</td>\n",
       "      <td>56.7719</td>\n",
       "      <td>57.1507</td>\n",
       "      <td>57.6342</td>\n",
       "      <td>58.0967</td>\n",
       "      <td>57.8590</td>\n",
       "      <td>57.4762</td>\n",
       "      <td>57.9371</td>\n",
       "      <td>57.9627</td>\n",
       "      <td>58.3776</td>\n",
       "    </tr>\n",
       "    <tr>\n",
       "      <td>2</td>\n",
       "      <td>60.1614</td>\n",
       "      <td>59.4978</td>\n",
       "      <td>59.3700</td>\n",
       "      <td>59.6067</td>\n",
       "      <td>59.4015</td>\n",
       "      <td>59.1830</td>\n",
       "      <td>59.3521</td>\n",
       "      <td>59.6697</td>\n",
       "      <td>59.5034</td>\n",
       "      <td>59.2168</td>\n",
       "      <td>...</td>\n",
       "      <td>56.7719</td>\n",
       "      <td>57.1507</td>\n",
       "      <td>57.6342</td>\n",
       "      <td>58.0967</td>\n",
       "      <td>57.8590</td>\n",
       "      <td>57.4762</td>\n",
       "      <td>57.9371</td>\n",
       "      <td>57.9627</td>\n",
       "      <td>58.3776</td>\n",
       "      <td>58.4067</td>\n",
       "    </tr>\n",
       "    <tr>\n",
       "      <td>3</td>\n",
       "      <td>59.4978</td>\n",
       "      <td>59.3700</td>\n",
       "      <td>59.6067</td>\n",
       "      <td>59.4015</td>\n",
       "      <td>59.1830</td>\n",
       "      <td>59.3521</td>\n",
       "      <td>59.6697</td>\n",
       "      <td>59.5034</td>\n",
       "      <td>59.2168</td>\n",
       "      <td>59.1489</td>\n",
       "      <td>...</td>\n",
       "      <td>57.1507</td>\n",
       "      <td>57.6342</td>\n",
       "      <td>58.0967</td>\n",
       "      <td>57.8590</td>\n",
       "      <td>57.4762</td>\n",
       "      <td>57.9371</td>\n",
       "      <td>57.9627</td>\n",
       "      <td>58.3776</td>\n",
       "      <td>58.4067</td>\n",
       "      <td>58.9099</td>\n",
       "    </tr>\n",
       "    <tr>\n",
       "      <td>4</td>\n",
       "      <td>59.3700</td>\n",
       "      <td>59.6067</td>\n",
       "      <td>59.4015</td>\n",
       "      <td>59.1830</td>\n",
       "      <td>59.3521</td>\n",
       "      <td>59.6697</td>\n",
       "      <td>59.5034</td>\n",
       "      <td>59.2168</td>\n",
       "      <td>59.1489</td>\n",
       "      <td>59.6356</td>\n",
       "      <td>...</td>\n",
       "      <td>57.6342</td>\n",
       "      <td>58.0967</td>\n",
       "      <td>57.8590</td>\n",
       "      <td>57.4762</td>\n",
       "      <td>57.9371</td>\n",
       "      <td>57.9627</td>\n",
       "      <td>58.3776</td>\n",
       "      <td>58.4067</td>\n",
       "      <td>58.9099</td>\n",
       "      <td>58.3370</td>\n",
       "    </tr>\n",
       "    <tr>\n",
       "      <td>...</td>\n",
       "      <td>...</td>\n",
       "      <td>...</td>\n",
       "      <td>...</td>\n",
       "      <td>...</td>\n",
       "      <td>...</td>\n",
       "      <td>...</td>\n",
       "      <td>...</td>\n",
       "      <td>...</td>\n",
       "      <td>...</td>\n",
       "      <td>...</td>\n",
       "      <td>...</td>\n",
       "      <td>...</td>\n",
       "      <td>...</td>\n",
       "      <td>...</td>\n",
       "      <td>...</td>\n",
       "      <td>...</td>\n",
       "      <td>...</td>\n",
       "      <td>...</td>\n",
       "      <td>...</td>\n",
       "      <td>...</td>\n",
       "      <td>...</td>\n",
       "    </tr>\n",
       "    <tr>\n",
       "      <td>680</td>\n",
       "      <td>64.8259</td>\n",
       "      <td>64.8672</td>\n",
       "      <td>65.0976</td>\n",
       "      <td>64.7416</td>\n",
       "      <td>64.2237</td>\n",
       "      <td>64.3652</td>\n",
       "      <td>64.2548</td>\n",
       "      <td>64.3455</td>\n",
       "      <td>64.0144</td>\n",
       "      <td>63.9542</td>\n",
       "      <td>...</td>\n",
       "      <td>63.8530</td>\n",
       "      <td>64.2009</td>\n",
       "      <td>64.2101</td>\n",
       "      <td>63.8881</td>\n",
       "      <td>63.7542</td>\n",
       "      <td>63.7730</td>\n",
       "      <td>64.0213</td>\n",
       "      <td>63.8430</td>\n",
       "      <td>63.7101</td>\n",
       "      <td>63.7637</td>\n",
       "    </tr>\n",
       "    <tr>\n",
       "      <td>681</td>\n",
       "      <td>64.8672</td>\n",
       "      <td>65.0976</td>\n",
       "      <td>64.7416</td>\n",
       "      <td>64.2237</td>\n",
       "      <td>64.3652</td>\n",
       "      <td>64.2548</td>\n",
       "      <td>64.3455</td>\n",
       "      <td>64.0144</td>\n",
       "      <td>63.9542</td>\n",
       "      <td>63.7606</td>\n",
       "      <td>...</td>\n",
       "      <td>64.2009</td>\n",
       "      <td>64.2101</td>\n",
       "      <td>63.8881</td>\n",
       "      <td>63.7542</td>\n",
       "      <td>63.7730</td>\n",
       "      <td>64.0213</td>\n",
       "      <td>63.8430</td>\n",
       "      <td>63.7101</td>\n",
       "      <td>63.7637</td>\n",
       "      <td>64.0239</td>\n",
       "    </tr>\n",
       "    <tr>\n",
       "      <td>682</td>\n",
       "      <td>65.0976</td>\n",
       "      <td>64.7416</td>\n",
       "      <td>64.2237</td>\n",
       "      <td>64.3652</td>\n",
       "      <td>64.2548</td>\n",
       "      <td>64.3455</td>\n",
       "      <td>64.0144</td>\n",
       "      <td>63.9542</td>\n",
       "      <td>63.7606</td>\n",
       "      <td>63.6336</td>\n",
       "      <td>...</td>\n",
       "      <td>64.2101</td>\n",
       "      <td>63.8881</td>\n",
       "      <td>63.7542</td>\n",
       "      <td>63.7730</td>\n",
       "      <td>64.0213</td>\n",
       "      <td>63.8430</td>\n",
       "      <td>63.7101</td>\n",
       "      <td>63.7637</td>\n",
       "      <td>64.0239</td>\n",
       "      <td>63.9722</td>\n",
       "    </tr>\n",
       "    <tr>\n",
       "      <td>683</td>\n",
       "      <td>64.7416</td>\n",
       "      <td>64.2237</td>\n",
       "      <td>64.3652</td>\n",
       "      <td>64.2548</td>\n",
       "      <td>64.3455</td>\n",
       "      <td>64.0144</td>\n",
       "      <td>63.9542</td>\n",
       "      <td>63.7606</td>\n",
       "      <td>63.6336</td>\n",
       "      <td>63.7997</td>\n",
       "      <td>...</td>\n",
       "      <td>63.8881</td>\n",
       "      <td>63.7542</td>\n",
       "      <td>63.7730</td>\n",
       "      <td>64.0213</td>\n",
       "      <td>63.8430</td>\n",
       "      <td>63.7101</td>\n",
       "      <td>63.7637</td>\n",
       "      <td>64.0239</td>\n",
       "      <td>63.9722</td>\n",
       "      <td>64.1005</td>\n",
       "    </tr>\n",
       "    <tr>\n",
       "      <td>684</td>\n",
       "      <td>64.2237</td>\n",
       "      <td>64.3652</td>\n",
       "      <td>64.2548</td>\n",
       "      <td>64.3455</td>\n",
       "      <td>64.0144</td>\n",
       "      <td>63.9542</td>\n",
       "      <td>63.7606</td>\n",
       "      <td>63.6336</td>\n",
       "      <td>63.7997</td>\n",
       "      <td>63.8600</td>\n",
       "      <td>...</td>\n",
       "      <td>63.7542</td>\n",
       "      <td>63.7730</td>\n",
       "      <td>64.0213</td>\n",
       "      <td>63.8430</td>\n",
       "      <td>63.7101</td>\n",
       "      <td>63.7637</td>\n",
       "      <td>64.0239</td>\n",
       "      <td>63.9722</td>\n",
       "      <td>64.1005</td>\n",
       "      <td>64.0817</td>\n",
       "    </tr>\n",
       "  </tbody>\n",
       "</table>\n",
       "<p>685 rows × 35 columns</p>\n",
       "</div>"
      ],
      "text/plain": [
       "      past_0   past_1   past_2   past_3   past_4   past_5   past_6   past_7  \\\n",
       "0    59.8961  59.9533  60.1614  59.4978  59.3700  59.6067  59.4015  59.1830   \n",
       "1    59.9533  60.1614  59.4978  59.3700  59.6067  59.4015  59.1830  59.3521   \n",
       "2    60.1614  59.4978  59.3700  59.6067  59.4015  59.1830  59.3521  59.6697   \n",
       "3    59.4978  59.3700  59.6067  59.4015  59.1830  59.3521  59.6697  59.5034   \n",
       "4    59.3700  59.6067  59.4015  59.1830  59.3521  59.6697  59.5034  59.2168   \n",
       "..       ...      ...      ...      ...      ...      ...      ...      ...   \n",
       "680  64.8259  64.8672  65.0976  64.7416  64.2237  64.3652  64.2548  64.3455   \n",
       "681  64.8672  65.0976  64.7416  64.2237  64.3652  64.2548  64.3455  64.0144   \n",
       "682  65.0976  64.7416  64.2237  64.3652  64.2548  64.3455  64.0144  63.9542   \n",
       "683  64.7416  64.2237  64.3652  64.2548  64.3455  64.0144  63.9542  63.7606   \n",
       "684  64.2237  64.3652  64.2548  64.3455  64.0144  63.9542  63.7606  63.6336   \n",
       "\n",
       "      past_8   past_9  ...  past_25  past_26  past_27  future_0  future_1  \\\n",
       "0    59.3521  59.6697  ...  58.0619  57.7388  56.7719   57.1507   57.6342   \n",
       "1    59.6697  59.5034  ...  57.7388  56.7719  57.1507   57.6342   58.0967   \n",
       "2    59.5034  59.2168  ...  56.7719  57.1507  57.6342   58.0967   57.8590   \n",
       "3    59.2168  59.1489  ...  57.1507  57.6342  58.0967   57.8590   57.4762   \n",
       "4    59.1489  59.6356  ...  57.6342  58.0967  57.8590   57.4762   57.9371   \n",
       "..       ...      ...  ...      ...      ...      ...       ...       ...   \n",
       "680  64.0144  63.9542  ...  63.8530  64.2009  64.2101   63.8881   63.7542   \n",
       "681  63.9542  63.7606  ...  64.2009  64.2101  63.8881   63.7542   63.7730   \n",
       "682  63.7606  63.6336  ...  64.2101  63.8881  63.7542   63.7730   64.0213   \n",
       "683  63.6336  63.7997  ...  63.8881  63.7542  63.7730   64.0213   63.8430   \n",
       "684  63.7997  63.8600  ...  63.7542  63.7730  64.0213   63.8430   63.7101   \n",
       "\n",
       "     future_2  future_3  future_4  future_5  future_6  \n",
       "0     58.0967   57.8590   57.4762   57.9371   57.9627  \n",
       "1     57.8590   57.4762   57.9371   57.9627   58.3776  \n",
       "2     57.4762   57.9371   57.9627   58.3776   58.4067  \n",
       "3     57.9371   57.9627   58.3776   58.4067   58.9099  \n",
       "4     57.9627   58.3776   58.4067   58.9099   58.3370  \n",
       "..        ...       ...       ...       ...       ...  \n",
       "680   63.7730   64.0213   63.8430   63.7101   63.7637  \n",
       "681   64.0213   63.8430   63.7101   63.7637   64.0239  \n",
       "682   63.8430   63.7101   63.7637   64.0239   63.9722  \n",
       "683   63.7101   63.7637   64.0239   63.9722   64.1005  \n",
       "684   63.7637   64.0239   63.9722   64.1005   64.0817  \n",
       "\n",
       "[685 rows x 35 columns]"
      ]
     },
     "execution_count": 25,
     "metadata": {},
     "output_type": "execute_result"
    }
   ],
   "source": [
    "df # итоговый датафрейм, где разложены данные для каждой позиции за 28 дней в прошлом и 7 дней в будущем"
   ]
  },
  {
   "cell_type": "code",
   "execution_count": 26,
   "metadata": {},
   "outputs": [],
   "source": [
    "# Учебник\n",
    "# тренировочная выборка\n",
    "X = df[past_columns] [:-20] # данные на вход (\"Задачи\")\n",
    "Y = df[future_columns] [:-20] # данные на выход (\"Ответы\")"
   ]
  },
  {
   "cell_type": "code",
   "execution_count": 27,
   "metadata": {},
   "outputs": [],
   "source": [
    "# Экзамен\n",
    "X_test = df[past_columns] [-20:] # задачи\n",
    "Y_test = df[future_columns] [-20:]  # ответы"
   ]
  },
  {
   "cell_type": "code",
   "execution_count": 28,
   "metadata": {},
   "outputs": [],
   "source": [
    "# импорт линейной регрессии (https://clck.ru/JT8wR) / (https://clck.ru/KfQon)\n",
    "from sklearn.linear_model import LinearRegression"
   ]
  },
  {
   "cell_type": "code",
   "execution_count": 29,
   "metadata": {},
   "outputs": [],
   "source": [
    "LinReg = LinearRegression() # алиас для удобства"
   ]
  },
  {
   "cell_type": "code",
   "execution_count": 30,
   "metadata": {},
   "outputs": [
    {
     "data": {
      "text/plain": [
       "LinearRegression(copy_X=True, fit_intercept=True, n_jobs=None, normalize=False)"
      ]
     },
     "execution_count": 30,
     "metadata": {},
     "output_type": "execute_result"
    }
   ],
   "source": [
    "LinReg.fit(X, Y) # запуск обучения"
   ]
  },
  {
   "cell_type": "code",
   "execution_count": 31,
   "metadata": {},
   "outputs": [],
   "source": [
    "prediction = LinReg.predict(X_test) # предсказание"
   ]
  },
  {
   "cell_type": "code",
   "execution_count": 32,
   "metadata": {},
   "outputs": [
    {
     "data": {
      "text/plain": [
       "array([[63.83147303, 63.86124819, 63.84828677, 63.76803891, 63.88800982,\n",
       "        63.94152217, 63.95378869],\n",
       "       [63.90343602, 63.92438152, 63.84232691, 63.94637983, 63.99406002,\n",
       "        64.00309225, 63.94930708],\n",
       "       [64.03495878, 63.97386993, 64.07288314, 64.10656639, 64.1143168 ,\n",
       "        64.05503807, 63.95640988],\n",
       "       [63.79138185, 63.89402494, 63.93757425, 63.95186316, 63.88602005,\n",
       "        63.79653703, 63.76318082],\n",
       "       [63.92340977, 63.91573466, 63.92824424, 63.88194806, 63.80461259,\n",
       "        63.77206718, 63.78307829],\n",
       "       [63.8660711 , 63.90220633, 63.85815518, 63.77363541, 63.73619972,\n",
       "        63.74803688, 63.73365847],\n",
       "       [63.79073768, 63.7160369 , 63.63706223, 63.61721702, 63.63271799,\n",
       "        63.6249561 , 63.56453433],\n",
       "       [63.99851077, 63.95215522, 63.92132615, 63.90846926, 63.89771011,\n",
       "        63.82665448, 63.73508628],\n",
       "       [63.12804836, 63.17375373, 63.19499092, 63.19604855, 63.09665629,\n",
       "        63.0301849 , 63.14895532],\n",
       "       [63.68289117, 63.67265109, 63.65241892, 63.53942496, 63.4880711 ,\n",
       "        63.59027567, 63.64268176],\n",
       "       [63.73464471, 63.73951401, 63.62584336, 63.55980692, 63.65657269,\n",
       "        63.70796524, 63.71917499],\n",
       "       [63.74134202, 63.65879537, 63.59104389, 63.67615752, 63.72322652,\n",
       "        63.73075292, 63.746327  ],\n",
       "       [63.86022608, 63.81548074, 63.8939905 , 63.92013456, 63.92430046,\n",
       "        63.93386236, 63.86582544],\n",
       "       [63.79646572, 63.83863607, 63.86552897, 63.88545428, 63.90187169,\n",
       "        63.83625267, 63.85827364],\n",
       "       [64.27843274, 64.25521202, 64.25556533, 64.27030384, 64.22354995,\n",
       "        64.23089927, 64.27270149],\n",
       "       [64.17660951, 64.16151238, 64.18245708, 64.14414933, 64.14984579,\n",
       "        64.1989084 , 64.16923887],\n",
       "       [63.8394401 , 63.87264434, 63.84781491, 63.86515229, 63.90694823,\n",
       "        63.88816535, 63.89810438],\n",
       "       [63.78595521, 63.79336826, 63.81449406, 63.84754665, 63.8213255 ,\n",
       "        63.8329719 , 63.8001827 ],\n",
       "       [63.76828204, 63.7527792 , 63.78711426, 63.77692558, 63.79476151,\n",
       "        63.76496945, 63.80517615],\n",
       "       [64.01321109, 63.95959729, 63.94023366, 63.97910219, 63.96984916,\n",
       "        64.00732396, 63.96761631]])"
      ]
     },
     "execution_count": 32,
     "metadata": {},
     "output_type": "execute_result"
    }
   ],
   "source": [
    "prediction # prediction"
   ]
  },
  {
   "cell_type": "code",
   "execution_count": 33,
   "metadata": {},
   "outputs": [
    {
     "data": {
      "text/plain": [
       "array([64.01321109, 63.95959729, 63.94023366, 63.97910219, 63.96984916,\n",
       "       64.00732396, 63.96761631])"
      ]
     },
     "execution_count": 33,
     "metadata": {},
     "output_type": "execute_result"
    }
   ],
   "source": [
    "prediction[19] # предсказание для 19 дня"
   ]
  },
  {
   "cell_type": "code",
   "execution_count": 34,
   "metadata": {},
   "outputs": [
    {
     "data": {
      "text/html": [
       "<div>\n",
       "<style scoped>\n",
       "    .dataframe tbody tr th:only-of-type {\n",
       "        vertical-align: middle;\n",
       "    }\n",
       "\n",
       "    .dataframe tbody tr th {\n",
       "        vertical-align: top;\n",
       "    }\n",
       "\n",
       "    .dataframe thead th {\n",
       "        text-align: right;\n",
       "    }\n",
       "</style>\n",
       "<table border=\"1\" class=\"dataframe\">\n",
       "  <thead>\n",
       "    <tr style=\"text-align: right;\">\n",
       "      <th></th>\n",
       "      <th>future_0</th>\n",
       "      <th>future_1</th>\n",
       "      <th>future_2</th>\n",
       "      <th>future_3</th>\n",
       "      <th>future_4</th>\n",
       "      <th>future_5</th>\n",
       "      <th>future_6</th>\n",
       "    </tr>\n",
       "  </thead>\n",
       "  <tbody>\n",
       "    <tr>\n",
       "      <td>684</td>\n",
       "      <td>63.843</td>\n",
       "      <td>63.7101</td>\n",
       "      <td>63.7637</td>\n",
       "      <td>64.0239</td>\n",
       "      <td>63.9722</td>\n",
       "      <td>64.1005</td>\n",
       "      <td>64.0817</td>\n",
       "    </tr>\n",
       "  </tbody>\n",
       "</table>\n",
       "</div>"
      ],
      "text/plain": [
       "     future_0  future_1  future_2  future_3  future_4  future_5  future_6\n",
       "684    63.843   63.7101   63.7637   64.0239   63.9722   64.1005   64.0817"
      ]
     },
     "execution_count": 34,
     "metadata": {},
     "output_type": "execute_result"
    }
   ],
   "source": [
    "Y_test[-1:] # ответы из экзамена для 19 дня (реальные данные)"
   ]
  },
  {
   "cell_type": "code",
   "execution_count": 35,
   "metadata": {},
   "outputs": [],
   "source": [
    "import matplotlib.pyplot as plt # импорт pyplot для построения графика"
   ]
  },
  {
   "cell_type": "code",
   "execution_count": 36,
   "metadata": {},
   "outputs": [
    {
     "data": {
      "image/png": "[encoded data removed]",
      "text/plain": [
       "<Figure size 432x288 with 1 Axes>"
      ]
     },
     "metadata": {
      "needs_background": "light"
     },
     "output_type": "display_data"
    }
   ],
   "source": [
    "def plotChart(prediction): # функция построения графика\n",
    "    plt.plot(prediction[19], label = \"prediction\") # линейный график предсказания для 19 дня\n",
    "    plt.plot(Y_test[-1:].iloc[0], label = \"real\") # линейный график реальных данных для 19 дня\n",
    "    plt.legend() # отобразить легенду\n",
    "''' Простой алгорит линейной регрессии без найстройки предсказал 5 трендов из 6 для 19 дня'''\n",
    "plotChart(prediction)"
   ]
  },
  {
   "cell_type": "code",
   "execution_count": 37,
   "metadata": {},
   "outputs": [],
   "source": [
    "from sklearn.metrics import mean_absolute_error # импорт средней абсолютной ошибки"
   ]
  },
  {
   "cell_type": "code",
   "execution_count": 38,
   "metadata": {},
   "outputs": [
    {
     "data": {
      "text/plain": [
       "0.12152148942502704"
      ]
     },
     "execution_count": 38,
     "metadata": {},
     "output_type": "execute_result"
    }
   ],
   "source": [
    "mean_absolute_error(Y_test[-1:].iloc[0], prediction[19]) # рассчет средней абсолютной ошибки для 19 дня (12 копеек)"
   ]
  },
  {
   "cell_type": "code",
   "execution_count": 39,
   "metadata": {},
   "outputs": [],
   "source": [
    "def printErrors(prediction): # функция вывода ошибок\n",
    "    errors_list = [] # создание массива средней абсолютной ошибки для всех 20 дней\n",
    "    for i in range(len(prediction)):\n",
    "        error = mean_absolute_error(Y_test.iloc[0], prediction[i])\n",
    "        errors_list.append(error)\n",
    "    avg_err = sum(errors_list) / len(errors_list) # среднее значение средней абсолютной ошибки для всех 20 дней (18 копеек)\n",
    "    sum_err = sum(errors_list) # суммарная ошибка за 20 дней\n",
    "    max_err = max(errors_list) # максимальная ошибка за 20 дней\n",
    "    print(\"Средняя ошибка = {}\".format(avg_err),\"рублей\")\n",
    "    print(\"Максимальная ошибка = {}\".format(max_err),\"рублей\")\n",
    "    print(\"Суммарная ошибка = {}\".format(sum_err),\"рублей\")"
   ]
  },
  {
   "cell_type": "code",
   "execution_count": 40,
   "metadata": {},
   "outputs": [
    {
     "name": "stdout",
     "output_type": "stream",
     "text": [
      "Средняя ошибка = 0.18030854347113812 рублей\n",
      "Максимальная ошибка = 0.7528231309996727 рублей\n",
      "Суммарная ошибка = 3.6061708694227623 рублей\n"
     ]
    }
   ],
   "source": [
    "printErrors(prediction)"
   ]
  },
  {
   "cell_type": "code",
   "execution_count": 41,
   "metadata": {},
   "outputs": [],
   "source": [
    "from sklearn.neural_network import MLPRegressor # импорт MLPRegressor"
   ]
  },
  {
   "cell_type": "code",
   "execution_count": 42,
   "metadata": {},
   "outputs": [],
   "source": [
    "MLP = MLPRegressor(max_iter=420) # алиас для удобства, количество интераций 420"
   ]
  },
  {
   "cell_type": "code",
   "execution_count": 43,
   "metadata": {},
   "outputs": [
    {
     "name": "stderr",
     "output_type": "stream",
     "text": [
      "C:\\ProgramData\\Anaconda3\\lib\\site-packages\\sklearn\\neural_network\\multilayer_perceptron.py:566: ConvergenceWarning: Stochastic Optimizer: Maximum iterations (420) reached and the optimization hasn't converged yet.\n",
      "  % self.max_iter, ConvergenceWarning)\n"
     ]
    },
    {
     "data": {
      "text/plain": [
       "MLPRegressor(activation='relu', alpha=0.0001, batch_size='auto', beta_1=0.9,\n",
       "             beta_2=0.999, early_stopping=False, epsilon=1e-08,\n",
       "             hidden_layer_sizes=(100,), learning_rate='constant',\n",
       "             learning_rate_init=0.001, max_iter=420, momentum=0.9,\n",
       "             n_iter_no_change=10, nesterovs_momentum=True, power_t=0.5,\n",
       "             random_state=None, shuffle=True, solver='adam', tol=0.0001,\n",
       "             validation_fraction=0.1, verbose=False, warm_start=False)"
      ]
     },
     "execution_count": 43,
     "metadata": {},
     "output_type": "execute_result"
    }
   ],
   "source": [
    "MLP.fit(X,Y) # запуск обучения"
   ]
  },
  {
   "cell_type": "code",
   "execution_count": 44,
   "metadata": {},
   "outputs": [],
   "source": [
    "predictionMLP = MLP.predict(X_test) # предсказание по MLP "
   ]
  },
  {
   "cell_type": "code",
   "execution_count": 45,
   "metadata": {},
   "outputs": [
    {
     "data": {
      "text/plain": [
       "array([[64.42354021, 63.89733835, 64.85277465, 64.41944822, 64.04198899,\n",
       "        64.69087913, 64.57185722],\n",
       "       [64.35230056, 63.95127749, 64.98345614, 64.55295313, 64.40910775,\n",
       "        64.44300832, 64.68825572],\n",
       "       [64.68499901, 64.10277777, 64.92976004, 64.52571712, 64.33249542,\n",
       "        64.53630738, 64.74789742],\n",
       "       [64.88204583, 64.55681761, 64.78326652, 64.40372029, 64.09893806,\n",
       "        64.35157049, 64.73604079],\n",
       "       [64.89709794, 64.32371515, 64.80498297, 64.26368696, 64.09388113,\n",
       "        64.19599607, 64.63147285],\n",
       "       [64.74172344, 64.23371959, 64.77524089, 64.02763596, 64.23386241,\n",
       "        64.04747074, 64.48404926],\n",
       "       [64.49819403, 64.17447441, 64.93716882, 63.97475012, 64.34595242,\n",
       "        63.88987425, 64.46848507],\n",
       "       [64.48430315, 64.4270341 , 64.91819497, 63.96520014, 64.24469312,\n",
       "        64.10323233, 64.37041641],\n",
       "       [64.33497419, 64.73674799, 64.62163449, 63.73561291, 64.25648842,\n",
       "        64.18100596, 64.35166747],\n",
       "       [64.42238242, 64.61874386, 64.42398868, 63.64925217, 64.40569233,\n",
       "        64.09157796, 64.03309263],\n",
       "       [64.11343464, 64.56386852, 64.70220822, 63.67484183, 64.3770872 ,\n",
       "        64.17485198, 64.18507923],\n",
       "       [64.1841831 , 64.4273566 , 64.61948998, 63.99867908, 64.61902875,\n",
       "        64.22511356, 64.3115356 ],\n",
       "       [64.38628441, 64.79354187, 64.32650026, 64.06603792, 64.46538407,\n",
       "        64.54778808, 64.4033518 ],\n",
       "       [64.08165857, 64.69284329, 64.22209268, 64.03302924, 64.49998039,\n",
       "        64.4320478 , 64.14908286],\n",
       "       [63.89277408, 64.46446707, 64.17785621, 63.80427544, 64.44152576,\n",
       "        64.42800108, 63.90635386],\n",
       "       [63.82380962, 64.6055374 , 64.04737229, 63.91779782, 64.35651902,\n",
       "        64.52779428, 63.96057494],\n",
       "       [63.73149964, 64.36279247, 64.10336458, 63.90174347, 64.36102203,\n",
       "        64.39826768, 64.17288437],\n",
       "       [63.71428001, 64.37490268, 64.13298877, 64.0708456 , 64.4698627 ,\n",
       "        64.52611647, 64.05205697],\n",
       "       [63.31986534, 64.25470719, 63.93642784, 63.86662285, 64.41940545,\n",
       "        64.24275055, 63.9236978 ],\n",
       "       [63.57985476, 64.11609421, 64.18417687, 63.7858366 , 64.05860413,\n",
       "        64.23707843, 63.9343694 ]])"
      ]
     },
     "execution_count": 45,
     "metadata": {},
     "output_type": "execute_result"
    }
   ],
   "source": [
    "predictionMLP # предсказание по MLP "
   ]
  },
  {
   "cell_type": "code",
   "execution_count": 46,
   "metadata": {},
   "outputs": [
    {
     "data": {
      "image/png": "[encoded data removed]",
      "text/plain": [
       "<Figure size 432x288 with 1 Axes>"
      ]
     },
     "metadata": {
      "needs_background": "light"
     },
     "output_type": "display_data"
    }
   ],
   "source": [
    "plotChart(predictionMLP) # график предсказания по MLP "
   ]
  },
  {
   "cell_type": "code",
   "execution_count": 47,
   "metadata": {},
   "outputs": [
    {
     "name": "stdout",
     "output_type": "stream",
     "text": [
      "Средняя ошибка = 0.4417056338069865 рублей\n",
      "Максимальная ошибка = 0.660222024015205 рублей\n",
      "Суммарная ошибка = 8.83411267613973 рублей\n"
     ]
    }
   ],
   "source": [
    "printErrors(predictionMLP) # вывод ошибок для MLP"
   ]
  },
  {
   "cell_type": "code",
   "execution_count": 48,
   "metadata": {},
   "outputs": [],
   "source": [
    "from sklearn.neighbors import KNeighborsRegressor # импорт метода ближайших соседей (https://clck.ru/KfYop)"
   ]
  },
  {
   "cell_type": "code",
   "execution_count": 49,
   "metadata": {},
   "outputs": [],
   "source": [
    "KNN = KNeighborsRegressor(n_neighbors=25) # алиас для удобства, количество соседей 25"
   ]
  },
  {
   "cell_type": "code",
   "execution_count": 50,
   "metadata": {},
   "outputs": [
    {
     "data": {
      "text/plain": [
       "KNeighborsRegressor(algorithm='auto', leaf_size=30, metric='minkowski',\n",
       "                    metric_params=None, n_jobs=None, n_neighbors=25, p=2,\n",
       "                    weights='uniform')"
      ]
     },
     "execution_count": 50,
     "metadata": {},
     "output_type": "execute_result"
    }
   ],
   "source": [
    "KNN.fit(X, Y) # запуск обучения"
   ]
  },
  {
   "cell_type": "code",
   "execution_count": 51,
   "metadata": {},
   "outputs": [],
   "source": [
    "predictionKNN = KNN.predict(X_test) # предсказание по KNN"
   ]
  },
  {
   "cell_type": "code",
   "execution_count": 52,
   "metadata": {},
   "outputs": [
    {
     "data": {
      "text/plain": [
       "array([[64.032376, 64.099256, 64.196044, 64.306664, 64.379972, 64.424676,\n",
       "        64.420376],\n",
       "       [64.025348, 64.108012, 64.218076, 64.313204, 64.378608, 64.398228,\n",
       "        64.37642 ],\n",
       "       [64.073916, 64.175984, 64.287916, 64.370056, 64.424536, 64.420024,\n",
       "        64.405348],\n",
       "       [64.173208, 64.287244, 64.402432, 64.459468, 64.452756, 64.439612,\n",
       "        64.405836],\n",
       "       [64.185208, 64.293892, 64.379724, 64.400516, 64.377244, 64.352984,\n",
       "        64.287832],\n",
       "       [64.196252, 64.295948, 64.352304, 64.351048, 64.32102 , 64.292852,\n",
       "        64.209404],\n",
       "       [64.186452, 64.272104, 64.277012, 64.240796, 64.202908, 64.164936,\n",
       "        64.098896],\n",
       "       [63.993756, 63.999604, 64.001548, 63.983264, 63.97666 , 63.928572,\n",
       "        63.880532],\n",
       "       [63.866344, 63.86926 , 63.880328, 63.87878 , 63.865932, 63.8301  ,\n",
       "        63.801056],\n",
       "       [63.791684, 63.798852, 63.805804, 63.808188, 63.771636, 63.746596,\n",
       "        63.716556],\n",
       "       [63.798852, 63.805804, 63.808188, 63.771636, 63.746596, 63.716556,\n",
       "        63.674624],\n",
       "       [63.878972, 63.819124, 63.77172 , 63.73398 , 63.680612, 63.653016,\n",
       "        63.628016],\n",
       "       [63.81488 , 63.767528, 63.715524, 63.670352, 63.623024, 63.578604,\n",
       "        63.555252],\n",
       "       [63.83806 , 63.790456, 63.73012 , 63.694164, 63.63446 , 63.577088,\n",
       "        63.559548],\n",
       "       [63.8099  , 63.756392, 63.718004, 63.67372 , 63.607604, 63.57688 ,\n",
       "        63.541764],\n",
       "       [63.795256, 63.744988, 63.700928, 63.644008, 63.597804, 63.560092,\n",
       "        63.558676],\n",
       "       [63.725328, 63.707336, 63.666052, 63.63612 , 63.62436 , 63.663576,\n",
       "        63.71766 ],\n",
       "       [63.575024, 63.550656, 63.558108, 63.569688, 63.593272, 63.673448,\n",
       "        63.759796],\n",
       "       [63.69904 , 63.692948, 63.704128, 63.742532, 63.81916 , 63.967548,\n",
       "        64.058652],\n",
       "       [63.755552, 63.782428, 63.787628, 63.851532, 63.951404, 64.094672,\n",
       "        64.247656]])"
      ]
     },
     "execution_count": 52,
     "metadata": {},
     "output_type": "execute_result"
    }
   ],
   "source": [
    "predictionKNN # предсказание по KNN"
   ]
  },
  {
   "cell_type": "code",
   "execution_count": 53,
   "metadata": {},
   "outputs": [
    {
     "data": {
      "image/png": "[encoded data removed]",
      "text/plain": [
       "<Figure size 432x288 with 1 Axes>"
      ]
     },
     "metadata": {
      "needs_background": "light"
     },
     "output_type": "display_data"
    }
   ],
   "source": [
    "plotChart(predictionKNN) # график предсказания по KNN"
   ]
  },
  {
   "cell_type": "code",
   "execution_count": 54,
   "metadata": {},
   "outputs": [
    {
     "name": "stdout",
     "output_type": "stream",
     "text": [
      "Средняя ошибка = 0.2519098857142833 рублей\n",
      "Максимальная ошибка = 0.48316514285713297 рублей\n",
      "Суммарная ошибка = 5.0381977142856655 рублей\n"
     ]
    }
   ],
   "source": [
    "printErrors(predictionKNN) # вывод ошибок для KNN"
   ]
  },
  {
   "cell_type": "code",
   "execution_count": 55,
   "metadata": {},
   "outputs": [],
   "source": [
    "# Кросс-валидация\n",
    "from sklearn.model_selection import GridSearchCV"
   ]
  },
  {
   "cell_type": "code",
   "execution_count": 59,
   "metadata": {},
   "outputs": [],
   "source": [
    "import numpy as np # импорт numpy"
   ]
  },
  {
   "cell_type": "code",
   "execution_count": 60,
   "metadata": {},
   "outputs": [
    {
     "data": {
      "text/plain": [
       "array([  10.        ,  111.83673469,  213.67346939,  315.51020408,\n",
       "        417.34693878,  519.18367347,  621.02040816,  722.85714286,\n",
       "        824.69387755,  926.53061224, 1028.36734694, 1130.20408163,\n",
       "       1232.04081633, 1333.87755102, 1435.71428571, 1537.55102041,\n",
       "       1639.3877551 , 1741.2244898 , 1843.06122449, 1944.89795918,\n",
       "       2046.73469388, 2148.57142857, 2250.40816327, 2352.24489796,\n",
       "       2454.08163265, 2555.91836735, 2657.75510204, 2759.59183673,\n",
       "       2861.42857143, 2963.26530612, 3065.10204082, 3166.93877551,\n",
       "       3268.7755102 , 3370.6122449 , 3472.44897959, 3574.28571429,\n",
       "       3676.12244898, 3777.95918367, 3879.79591837, 3981.63265306,\n",
       "       4083.46938776, 4185.30612245, 4287.14285714, 4388.97959184,\n",
       "       4490.81632653, 4592.65306122, 4694.48979592, 4796.32653061,\n",
       "       4898.16326531, 5000.        ])"
      ]
     },
     "execution_count": 60,
     "metadata": {},
     "output_type": "execute_result"
    }
   ],
   "source": [
    "np.linspace(10, 5000, 50) # создает список из элементов межу a1 до a2 с интервалом a3"
   ]
  },
  {
   "cell_type": "code",
   "execution_count": 61,
   "metadata": {},
   "outputs": [],
   "source": [
    "# GridSearch\n",
    "# CV - cross validation\n",
    "MLP = MLPRegressor()"
   ]
  },
  {
   "cell_type": "code",
   "execution_count": 62,
   "metadata": {},
   "outputs": [
    {
     "data": {
      "text/plain": [
       "MLPRegressor(activation='relu', alpha=0.0001, batch_size='auto', beta_1=0.9,\n",
       "             beta_2=0.999, early_stopping=False, epsilon=1e-08,\n",
       "             hidden_layer_sizes=(100,), learning_rate='constant',\n",
       "             learning_rate_init=0.001, max_iter=200, momentum=0.9,\n",
       "             n_iter_no_change=10, nesterovs_momentum=True, power_t=0.5,\n",
       "             random_state=None, shuffle=True, solver='adam', tol=0.0001,\n",
       "             validation_fraction=0.1, verbose=False, warm_start=False)"
      ]
     },
     "execution_count": 62,
     "metadata": {},
     "output_type": "execute_result"
    }
   ],
   "source": [
    "MLP"
   ]
  },
  {
   "cell_type": "code",
   "execution_count": 93,
   "metadata": {},
   "outputs": [],
   "source": [
    "GS = GridSearchCV(MLP, {\n",
    "    \"max_iter\": np.linspace(100, 1000, 4, dtype = np.int16), # количество итераций, должно быть целым числов(dtype = np.int16)\n",
    "    \"hidden_layer_sizes\": [ (50,50), (100,100), (50,50,50)] # количество скрытых слоев (слой (количество нейронов))\n",
    "}, cv = 2, scoring = 'neg_mean_squared_error') # оценка ошибки = метод среднеквадратичиной ошибки\n",
    "# создаст 54 модели (2 act * 3 iter * 3 cv * 3 hidden_layer_sizes )"
   ]
  },
  {
   "cell_type": "code",
   "execution_count": 94,
   "metadata": {},
   "outputs": [
    {
     "name": "stderr",
     "output_type": "stream",
     "text": [
      "C:\\ProgramData\\Anaconda3\\lib\\site-packages\\sklearn\\neural_network\\multilayer_perceptron.py:566: ConvergenceWarning: Stochastic Optimizer: Maximum iterations (100) reached and the optimization hasn't converged yet.\n",
      "  % self.max_iter, ConvergenceWarning)\n",
      "C:\\ProgramData\\Anaconda3\\lib\\site-packages\\sklearn\\neural_network\\multilayer_perceptron.py:566: ConvergenceWarning: Stochastic Optimizer: Maximum iterations (100) reached and the optimization hasn't converged yet.\n",
      "  % self.max_iter, ConvergenceWarning)\n",
      "C:\\ProgramData\\Anaconda3\\lib\\site-packages\\sklearn\\neural_network\\multilayer_perceptron.py:566: ConvergenceWarning: Stochastic Optimizer: Maximum iterations (400) reached and the optimization hasn't converged yet.\n",
      "  % self.max_iter, ConvergenceWarning)\n",
      "C:\\ProgramData\\Anaconda3\\lib\\site-packages\\sklearn\\neural_network\\multilayer_perceptron.py:566: ConvergenceWarning: Stochastic Optimizer: Maximum iterations (100) reached and the optimization hasn't converged yet.\n",
      "  % self.max_iter, ConvergenceWarning)\n",
      "C:\\ProgramData\\Anaconda3\\lib\\site-packages\\sklearn\\neural_network\\multilayer_perceptron.py:566: ConvergenceWarning: Stochastic Optimizer: Maximum iterations (100) reached and the optimization hasn't converged yet.\n",
      "  % self.max_iter, ConvergenceWarning)\n",
      "C:\\ProgramData\\Anaconda3\\lib\\site-packages\\sklearn\\neural_network\\multilayer_perceptron.py:566: ConvergenceWarning: Stochastic Optimizer: Maximum iterations (100) reached and the optimization hasn't converged yet.\n",
      "  % self.max_iter, ConvergenceWarning)\n",
      "C:\\ProgramData\\Anaconda3\\lib\\site-packages\\sklearn\\neural_network\\multilayer_perceptron.py:566: ConvergenceWarning: Stochastic Optimizer: Maximum iterations (400) reached and the optimization hasn't converged yet.\n",
      "  % self.max_iter, ConvergenceWarning)\n",
      "C:\\ProgramData\\Anaconda3\\lib\\site-packages\\sklearn\\model_selection\\_search.py:814: DeprecationWarning: The default of the `iid` parameter will change from True to False in version 0.22 and will be removed in 0.24. This will change numeric results when test-set sizes are unequal.\n",
      "  DeprecationWarning)\n"
     ]
    },
    {
     "data": {
      "text/plain": [
       "GridSearchCV(cv=2, error_score='raise-deprecating',\n",
       "             estimator=MLPRegressor(activation='relu', alpha=0.0001,\n",
       "                                    batch_size='auto', beta_1=0.9, beta_2=0.999,\n",
       "                                    early_stopping=False, epsilon=1e-08,\n",
       "                                    hidden_layer_sizes=(100,),\n",
       "                                    learning_rate='constant',\n",
       "                                    learning_rate_init=0.001, max_iter=200,\n",
       "                                    momentum=0.9, n_iter_no_change=10,\n",
       "                                    nesterovs_momentum=True, power_t=0.5,\n",
       "                                    random_state=None, shuffle=True,\n",
       "                                    solver='adam', tol=0.0001,\n",
       "                                    validation_fraction=0.1, verbose=False,\n",
       "                                    warm_start=False),\n",
       "             iid='warn', n_jobs=None,\n",
       "             param_grid={'hidden_layer_sizes': [(50, 50), (100, 100),\n",
       "                                                (50, 50, 50)],\n",
       "                         'max_iter': array([ 100,  400,  700, 1000], dtype=int16)},\n",
       "             pre_dispatch='2*n_jobs', refit=True, return_train_score=False,\n",
       "             scoring='neg_mean_squared_error', verbose=0)"
      ]
     },
     "execution_count": 94,
     "metadata": {},
     "output_type": "execute_result"
    }
   ],
   "source": [
    "GS.fit(X,Y)"
   ]
  },
  {
   "cell_type": "code",
   "execution_count": 95,
   "metadata": {},
   "outputs": [
    {
     "data": {
      "text/plain": [
       "MLPRegressor(activation='relu', alpha=0.0001, batch_size='auto', beta_1=0.9,\n",
       "             beta_2=0.999, early_stopping=False, epsilon=1e-08,\n",
       "             hidden_layer_sizes=(100, 100), learning_rate='constant',\n",
       "             learning_rate_init=0.001, max_iter=700, momentum=0.9,\n",
       "             n_iter_no_change=10, nesterovs_momentum=True, power_t=0.5,\n",
       "             random_state=None, shuffle=True, solver='adam', tol=0.0001,\n",
       "             validation_fraction=0.1, verbose=False, warm_start=False)"
      ]
     },
     "execution_count": 95,
     "metadata": {},
     "output_type": "execute_result"
    }
   ],
   "source": [
    "GS.best_estimator_ # лучшая получившаеся модель"
   ]
  },
  {
   "cell_type": "code",
   "execution_count": 96,
   "metadata": {},
   "outputs": [
    {
     "data": {
      "text/plain": [
       "-1.2402584286646636"
      ]
     },
     "execution_count": 96,
     "metadata": {},
     "output_type": "execute_result"
    }
   ],
   "source": [
    "GS.best_score_ # лучшая оценка ошибки"
   ]
  },
  {
   "cell_type": "code",
   "execution_count": 97,
   "metadata": {},
   "outputs": [],
   "source": [
    "BestMLP = GS.best_estimator_ "
   ]
  },
  {
   "cell_type": "code",
   "execution_count": 98,
   "metadata": {},
   "outputs": [],
   "source": [
    "prediction = BestMLP.predict(X_test) # предсказание по лучшей модели"
   ]
  },
  {
   "cell_type": "code",
   "execution_count": 99,
   "metadata": {},
   "outputs": [
    {
     "data": {
      "image/png": "[encoded data removed]",
      "text/plain": [
       "<Figure size 432x288 with 1 Axes>"
      ]
     },
     "metadata": {
      "needs_background": "light"
     },
     "output_type": "display_data"
    }
   ],
   "source": [
    "plotChart(prediction) # график предсказания по лучшей модели"
   ]
  },
  {
   "cell_type": "code",
   "execution_count": 100,
   "metadata": {},
   "outputs": [
    {
     "name": "stdout",
     "output_type": "stream",
     "text": [
      "Средняя ошибка = 0.405292907254727 рублей\n",
      "Максимальная ошибка = 0.6267411103063927 рублей\n",
      "Суммарная ошибка = 8.10585814509454 рублей\n"
     ]
    }
   ],
   "source": [
    "printErrors(prediction) # вывод ошибок для лучшей модели"
   ]
  }
 ],
 "metadata": {
  "kernelspec": {
   "display_name": "Python 3",
   "language": "python",
   "name": "python3"
  },
  "language_info": {
   "codemirror_mode": {
    "name": "ipython",
    "version": 3
   },
   "file_extension": ".py",
   "mimetype": "text/x-python",
   "name": "python",
   "nbconvert_exporter": "python",
   "pygments_lexer": "ipython3",
   "version": "3.7.4"
  }
 },
 "nbformat": 4,
 "nbformat_minor": 2
}
