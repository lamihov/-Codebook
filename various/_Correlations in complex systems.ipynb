{
 "cells": [
  {
   "cell_type": "code",
   "execution_count": 1,
   "metadata": {},
   "outputs": [
    {
     "name": "stdout",
     "output_type": "stream",
     "text": [
      "    gdpPercap  lifeExp\n",
      "0  779.445314   28.801\n",
      "1  820.853030   30.332\n",
      "2  853.100710   31.997\n",
      "3  836.197138   34.020\n",
      "4  739.981106   36.088\n"
     ]
    }
   ],
   "source": [
    "import pandas as pd #импорт библиотеки pandas\n",
    "import numpy as np #импорт библиотеки numpy \n",
    "import matplotlib.pyplot as plt #импорт библиотеки matplotlib \n",
    "import seaborn as sns #импорт seaborn \n",
    "%matplotlib inline  \n",
    "#магическая функция - отображает графики в интерактивной оболочке\n",
    "\n",
    "\n",
    "data_url = 'http://bit.ly/2cLzoxH'  \n",
    "# создание dataframe для pandas из url (dataset в формате csv) \n",
    "gapminder = pd.read_csv(data_url) \n",
    "# определяет соответствующие столбцы\n",
    "gapminder = gapminder[['gdpPercap', 'lifeExp']] \n",
    "print(gapminder.head(5)) #вывод первых 5 значений "
   ]
  },
  {
   "cell_type": "code",
   "execution_count": 2,
   "metadata": {},
   "outputs": [
    {
     "data": {
      "text/plain": [
       "0.5837062198659948"
      ]
     },
     "execution_count": 2,
     "metadata": {},
     "output_type": "execute_result"
    }
   ],
   "source": [
    "import pandas as pd #импорт библиотеки pandas\n",
    "import numpy as np #импорт библиотеки numpy \n",
    "import matplotlib.pyplot as plt #импорт библиотеки matplotlib \n",
    "import seaborn as sns #импорт seaborn \n",
    "%matplotlib inline  \n",
    "#магическая функция - отображает графики в интерактивной оболочке\n",
    "\n",
    "\n",
    "data_url = 'http://bit.ly/2cLzoxH'  \n",
    "# создание dataframe для pandas из url (dataset в формате csv) \n",
    "gapminder = pd.read_csv(data_url) \n",
    "# определяет соответствующие столбцы\n",
    "gapminder = gapminder[['gdpPercap', 'lifeExp']] \n",
    "\n",
    "gapminder.gdpPercap.corr(gapminder.lifeExp, method=\"pearson\") #корреляция пирсона посредством pandas "
   ]
  },
  {
   "cell_type": "code",
   "execution_count": 3,
   "metadata": {},
   "outputs": [
    {
     "data": {
      "text/plain": [
       "array([[ 1.        ,  0.58370622],\n",
       "       [ 0.58370622,  1.        ]])"
      ]
     },
     "execution_count": 3,
     "metadata": {},
     "output_type": "execute_result"
    }
   ],
   "source": [
    "import pandas as pd #импорт библиотеки pandas\n",
    "import numpy as np #импорт библиотеки numpy \n",
    "import matplotlib.pyplot as plt #импорт библиотеки matplotlib \n",
    "import seaborn as sns #импорт seaborn \n",
    "%matplotlib inline  \n",
    "#магическая функция - отображает графики в интерактивной оболочке\n",
    "\n",
    "\n",
    "data_url = 'http://bit.ly/2cLzoxH'  \n",
    "# создание dataframe для pandas из url (dataset в формате csv) \n",
    "gapminder = pd.read_csv(data_url) \n",
    "# определяет соответствующие столбцы\n",
    "gapminder = gapminder[['gdpPercap', 'lifeExp']] \n",
    "\n",
    "np.corrcoef(gapminder.gdpPercap, gapminder.lifeExp) #корреляция пирсона посредством numpy"
   ]
  },
  {
   "cell_type": "code",
   "execution_count": 4,
   "metadata": {},
   "outputs": [
    {
     "data": {
      "text/plain": [
       "(0.5837062198659948, 3.565724241050652e-156)"
      ]
     },
     "execution_count": 4,
     "metadata": {},
     "output_type": "execute_result"
    }
   ],
   "source": [
    "import pandas as pd #импорт библиотеки pandas\n",
    "import numpy as np #импорт библиотеки numpy \n",
    "import matplotlib.pyplot as plt #импорт библиотеки matplotlib \n",
    "import seaborn as sns #импорт seaborn \n",
    "%matplotlib inline  \n",
    "#магическая функция - отображает графики в интерактивной оболочке\n",
    "\n",
    "\n",
    "data_url = 'http://bit.ly/2cLzoxH'  \n",
    "# создание dataframe для pandas из url (dataset в формате csv) \n",
    "gapminder = pd.read_csv(data_url) \n",
    "# определяет соответствующие столбцы\n",
    "gapminder = gapminder[['gdpPercap', 'lifeExp']] \n",
    "\n",
    "from scipy import stats #импорт библиотеки scipy\n",
    "gdpPercap = gapminder.gdpPercap.values #возврат значений для gdpPercap\n",
    "life_exp = gapminder.lifeExp.values #возврат значений для lifeExp\n",
    "stats.pearsonr(gdpPercap,life_exp) #корреляция пирсона посредством scipy"
   ]
  },
  {
   "cell_type": "code",
   "execution_count": 5,
   "metadata": {},
   "outputs": [
    {
     "data": {
      "text/plain": [
       "0.82647118119707152"
      ]
     },
     "execution_count": 5,
     "metadata": {},
     "output_type": "execute_result"
    }
   ],
   "source": [
    "import pandas as pd #импорт библиотеки pandas\n",
    "import numpy as np #импорт библиотеки numpy \n",
    "import matplotlib.pyplot as plt #импорт библиотеки matplotlib \n",
    "import seaborn as sns #импорт seaborn \n",
    "%matplotlib inline  \n",
    "#магическая функция - отображает графики в интерактивной оболочке\n",
    "\n",
    "\n",
    "data_url = 'http://bit.ly/2cLzoxH'  \n",
    "# создание dataframe для pandas из url (dataset в формате csv) \n",
    "gapminder = pd.read_csv(data_url) \n",
    "# определяет соответствующие столбцы\n",
    "gapminder = gapminder[['gdpPercap', 'lifeExp']] \n",
    "\n",
    "gapminder.gdpPercap.corr(gapminder.lifeExp, method=\"spearman\") #корреляция спирмена посредством pandas"
   ]
  },
  {
   "cell_type": "code",
   "execution_count": 6,
   "metadata": {},
   "outputs": [
    {
     "data": {
      "text/html": [
       "<div>\n",
       "<style>\n",
       "    .dataframe thead tr:only-child th {\n",
       "        text-align: right;\n",
       "    }\n",
       "\n",
       "    .dataframe thead th {\n",
       "        text-align: left;\n",
       "    }\n",
       "\n",
       "    .dataframe tbody tr th {\n",
       "        vertical-align: top;\n",
       "    }\n",
       "</style>\n",
       "<table border=\"1\" class=\"dataframe\">\n",
       "  <thead>\n",
       "    <tr style=\"text-align: right;\">\n",
       "      <th></th>\n",
       "      <th>gdpPercap</th>\n",
       "      <th>lifeExp</th>\n",
       "      <th>gdpPercap_r</th>\n",
       "      <th>lifeExp_r</th>\n",
       "    </tr>\n",
       "  </thead>\n",
       "  <tbody>\n",
       "    <tr>\n",
       "      <th>0</th>\n",
       "      <td>779.445314</td>\n",
       "      <td>28.801</td>\n",
       "      <td>227.0</td>\n",
       "      <td>2.0</td>\n",
       "    </tr>\n",
       "    <tr>\n",
       "      <th>1</th>\n",
       "      <td>820.853030</td>\n",
       "      <td>30.332</td>\n",
       "      <td>255.0</td>\n",
       "      <td>6.0</td>\n",
       "    </tr>\n",
       "    <tr>\n",
       "      <th>2</th>\n",
       "      <td>853.100710</td>\n",
       "      <td>31.997</td>\n",
       "      <td>274.0</td>\n",
       "      <td>11.0</td>\n",
       "    </tr>\n",
       "    <tr>\n",
       "      <th>3</th>\n",
       "      <td>836.197138</td>\n",
       "      <td>34.020</td>\n",
       "      <td>262.0</td>\n",
       "      <td>25.0</td>\n",
       "    </tr>\n",
       "    <tr>\n",
       "      <th>4</th>\n",
       "      <td>739.981106</td>\n",
       "      <td>36.088</td>\n",
       "      <td>202.0</td>\n",
       "      <td>45.0</td>\n",
       "    </tr>\n",
       "  </tbody>\n",
       "</table>\n",
       "</div>"
      ],
      "text/plain": [
       "    gdpPercap  lifeExp  gdpPercap_r  lifeExp_r\n",
       "0  779.445314   28.801        227.0        2.0\n",
       "1  820.853030   30.332        255.0        6.0\n",
       "2  853.100710   31.997        274.0       11.0\n",
       "3  836.197138   34.020        262.0       25.0\n",
       "4  739.981106   36.088        202.0       45.0"
      ]
     },
     "execution_count": 6,
     "metadata": {},
     "output_type": "execute_result"
    }
   ],
   "source": [
    "import pandas as pd #импорт библиотеки pandas\n",
    "import numpy as np #импорт библиотеки numpy \n",
    "import matplotlib.pyplot as plt #импорт библиотеки matplotlib \n",
    "import seaborn as sns #импорт seaborn \n",
    "%matplotlib inline  \n",
    "#магическая функция - отображает графики в интерактивной оболочке\n",
    "\n",
    "\n",
    "data_url = 'http://bit.ly/2cLzoxH'  \n",
    "# создание dataframe для pandas из url (dataset в формате csv) \n",
    "gapminder = pd.read_csv(data_url) \n",
    "# определяет соответствующие столбцы\n",
    "gapminder = gapminder[['gdpPercap', 'lifeExp']] \n",
    "\n",
    "gapminder[\"gdpPercap_r\"] = gapminder.gdpPercap.rank() #ранжирование gdpPercap\n",
    "gapminder[\"lifeExp_r\"] = gapminder.lifeExp.rank() #ранжирование lifeExp\n",
    "gapminder.head()"
   ]
  },
  {
   "cell_type": "code",
   "execution_count": 7,
   "metadata": {},
   "outputs": [
    {
     "data": {
      "text/plain": [
       "array([[ 1.        ,  0.82647118],\n",
       "       [ 0.82647118,  1.        ]])"
      ]
     },
     "execution_count": 7,
     "metadata": {},
     "output_type": "execute_result"
    }
   ],
   "source": [
    "import pandas as pd #импорт библиотеки pandas\n",
    "import numpy as np #импорт библиотеки numpy \n",
    "import matplotlib.pyplot as plt #импорт библиотеки matplotlib \n",
    "import seaborn as sns #импорт seaborn \n",
    "%matplotlib inline  \n",
    "#магическая функция - отображает графики в интерактивной оболочке\n",
    "\n",
    "\n",
    "data_url = 'http://bit.ly/2cLzoxH'  \n",
    "# создание dataframe для pandas из url (dataset в формате csv) \n",
    "gapminder = pd.read_csv(data_url) \n",
    "# определяет соответствующие столбцы\n",
    "gapminder = gapminder[['gdpPercap', 'lifeExp']] \n",
    "\n",
    "gapminder[\"gdpPercap_r\"] = gapminder.gdpPercap.rank() #ранжирование gdpPercap\n",
    "gapminder[\"lifeExp_r\"] = gapminder.lifeExp.rank() #ранжирование lifeExp\n",
    "gapminder.head()\n",
    "np.corrcoef(gapminder.gdpPercap_r, gapminder.lifeExp_r) #корреляция спирмена посредством numpy"
   ]
  },
  {
   "cell_type": "code",
   "execution_count": 8,
   "metadata": {},
   "outputs": [
    {
     "data": {
      "text/plain": [
       "SpearmanrResult(correlation=0.82647118119707152, pvalue=0.0)"
      ]
     },
     "execution_count": 8,
     "metadata": {},
     "output_type": "execute_result"
    }
   ],
   "source": [
    "import pandas as pd #импорт библиотеки pandas\n",
    "import numpy as np #импорт библиотеки numpy \n",
    "import matplotlib.pyplot as plt #импорт библиотеки matplotlib \n",
    "import seaborn as sns #импорт seaborn \n",
    "%matplotlib inline  \n",
    "#магическая функция - отображает графики в интерактивной оболочке\n",
    "\n",
    "\n",
    "data_url = 'http://bit.ly/2cLzoxH'  \n",
    "# создание dataframe для pandas из url (dataset в формате csv) \n",
    "gapminder = pd.read_csv(data_url) \n",
    "# определяет соответствующие столбцы\n",
    "gapminder = gapminder[['gdpPercap', 'lifeExp']] \n",
    "\n",
    "from scipy import stats #импорт библиотеки scipy\n",
    "gdpPercap = gapminder.gdpPercap.values #возврат значений для gdpPercap\n",
    "life_exp = gapminder.lifeExp.values #возврат значений для lifeExp\n",
    "stats.spearmanr(gdpPercap,life_exp)#корреляция спирмена посредством scipy"
   ]
  },
  {
   "cell_type": "code",
   "execution_count": 9,
   "metadata": {},
   "outputs": [
    {
     "data": {
      "image/png": "[encoded data removed]",
      "text/plain": [
       "<matplotlib.figure.Figure at 0x2549d7afcf8>"
      ]
     },
     "metadata": {},
     "output_type": "display_data"
    }
   ],
   "source": [
    "import pandas as pd #импорт библиотеки pandas\n",
    "import numpy as np #импорт библиотеки numpy \n",
    "import matplotlib.pyplot as plt #импорт библиотеки matplotlib \n",
    "import seaborn as sns #импорт seaborn \n",
    "%matplotlib inline  \n",
    "#магическая функция - отображает графики в интерактивной оболочке\n",
    "\n",
    "\n",
    "data_url = 'http://bit.ly/2cLzoxH'  \n",
    "# создание dataframe для pandas из url (dataset в формате csv) \n",
    "gapminder = pd.read_csv(data_url) \n",
    "# определяет соответствующие столбцы\n",
    "gapminder = gapminder[['gdpPercap', 'lifeExp']] \n",
    "\n",
    "gapminder[\"gdpPercap_r\"] = gapminder.gdpPercap.rank() #ранжирование gdpPercap\n",
    "gapminder[\"lifeExp_r\"] = gapminder.lifeExp.rank() #ранжирование lifeExp\n",
    "gapminder.head()\n",
    "\n",
    "hplot = sns.distplot(gapminder['lifeExp'], kde=False, color='blue', bins=100)#построение графика\n",
    "plt.title('Life Expectancy', fontsize=18)\n",
    "plt.xlabel('Life Exp (years)', fontsize=16)\n",
    "plt.ylabel('Frequency', fontsize=16)\n",
    "plot_file_name=\"gapminder_life_expectancy_histogram.jpg\"# имя создаваемого изображения\n",
    "hplot.figure.savefig(plot_file_name,\n",
    "                    format='jpeg',\n",
    "                    dpi=1000) # формат и плотность изображения"
   ]
  },
  {
   "cell_type": "code",
   "execution_count": 4,
   "metadata": {},
   "outputs": [
    {
     "data": {
      "image/png": "[encoded data removed]",
      "text/plain": [
       "<Figure size 432x288 with 1 Axes>"
      ]
     },
     "metadata": {
      "needs_background": "light"
     },
     "output_type": "display_data"
    }
   ],
   "source": [
    "import pandas as pd #импорт библиотеки pandas\n",
    "import numpy as np #импорт библиотеки numpy \n",
    "import matplotlib.pyplot as plt #импорт библиотеки matplotlib \n",
    "import seaborn as sns #импорт seaborn \n",
    "%matplotlib inline  \n",
    "#магическая функция - отображает графики в интерактивной оболочке\n",
    "\n",
    "\n",
    "data_url = 'http://bit.ly/2cLzoxH'  \n",
    "# создание dataframe для pandas из url (dataset в формате csv) \n",
    "gapminder = pd.read_csv(data_url) \n",
    "# определяет соответствующие столбцы\n",
    "gapminder = gapminder[['gdpPercap', 'lifeExp']] \n",
    "\n",
    "gapminder[\"gdpPercap_r\"] = gapminder.gdpPercap.rank() #ранжирование gdpPercap\n",
    "gapminder[\"lifeExp_r\"] = gapminder.lifeExp.rank() #ранжирование lifeExp\n",
    "gapminder.head()\n",
    "\n",
    "hplot = sns.distplot(gapminder['lifeExp'], kde=bool, color='blue', bins=100)#построение графика с ядерной оценкой плотности\n",
    "plt.title('Life Expectancy', fontsize=18)\n",
    "plt.xlabel('Life Exp (years)', fontsize=16)\n",
    "plt.ylabel('Frequency', fontsize=16)\n",
    "plot_file_name=\"gapminder_life_expectancy_histogram.jpg\"# имя создаваемого изображения\n",
    "hplot.figure.savefig(plot_file_name,\n",
    "                    format='jpeg',\n",
    "                    dpi=1000) # формат и плотность изображения"
   ]
  },
  {
   "cell_type": "code",
   "execution_count": 3,
   "metadata": {},
   "outputs": [
    {
     "data": {
      "text/plain": [
       "<matplotlib.axes._subplots.AxesSubplot at 0x1bb653653c8>"
      ]
     },
     "execution_count": 3,
     "metadata": {},
     "output_type": "execute_result"
    },
    {
     "data": {
      "image/png": "[encoded data removed]",
      "text/plain": [
       "<Figure size 432x288 with 2 Axes>"
      ]
     },
     "metadata": {
      "needs_background": "light"
     },
     "output_type": "display_data"
    }
   ],
   "source": [
    "import pandas as pd #импорт библиотеки pandas\n",
    "import seaborn as sns #импорт seaborn \n",
    "import matplotlib.pyplot as plt #импорт библиотеки matplotlib \n",
    "\n",
    "\n",
    "data_url = 'http://bit.ly/2cLzoxH'\n",
    "# создание dataframe для pandas из url (dataset в формате csv) \n",
    "gapminder = pd.read_csv(data_url)\n",
    "# определяет соответствующие столбцы\n",
    "df1 = gapminder[['continent', 'year','lifeExp']]\n",
    "\n",
    "heatmap1_data = pd.pivot_table(df1, values='lifeExp', \n",
    "                     index=['continent'], \n",
    "                     columns='year')\n",
    "\n",
    "sns.heatmap(heatmap1_data, cmap=\"YlGnBu\")"
   ]
  },
  {
   "cell_type": "code",
   "execution_count": null,
   "metadata": {
    "collapsed": true
   },
   "outputs": [],
   "source": []
  }
 ],
 "metadata": {
  "kernelspec": {
   "display_name": "Python 3",
   "language": "python",
   "name": "python3"
  },
  "language_info": {
   "codemirror_mode": {
    "name": "ipython",
    "version": 3
   },
   "file_extension": ".py",
   "mimetype": "text/x-python",
   "name": "python",
   "nbconvert_exporter": "python",
   "pygments_lexer": "ipython3",
   "version": "3.7.4"
  }
 },
 "nbformat": 4,
 "nbformat_minor": 2
}
